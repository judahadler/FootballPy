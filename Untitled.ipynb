{
 "cells": [
  {
   "cell_type": "code",
   "execution_count": 1,
   "id": "2c5bf875",
   "metadata": {},
   "outputs": [
    {
     "ename": "ModuleNotFoundError",
     "evalue": "No module named 'nfl_data_py'",
     "output_type": "error",
     "traceback": [
      "\u001b[0;31m---------------------------------------------------------------------------\u001b[0m",
      "\u001b[0;31mModuleNotFoundError\u001b[0m                       Traceback (most recent call last)",
      "Cell \u001b[0;32mIn[1], line 1\u001b[0m\n\u001b[0;32m----> 1\u001b[0m \u001b[38;5;28;01mimport\u001b[39;00m \u001b[38;5;21;01mnfl_data_py\u001b[39;00m \u001b[38;5;28;01mas\u001b[39;00m \u001b[38;5;21;01mnfl\u001b[39;00m\n",
      "\u001b[0;31mModuleNotFoundError\u001b[0m: No module named 'nfl_data_py'"
     ]
    }
   ],
   "source": [
    "import nfl_data_py as nfl"
   ]
  },
  {
   "cell_type": "code",
   "execution_count": 2,
   "id": "068d9b2f",
   "metadata": {},
   "outputs": [
    {
     "name": "stdout",
     "output_type": "stream",
     "text": [
      "Collecting nfl_data_py\n",
      "  Using cached nfl_data_py-0.3.1.tar.gz (16 kB)\n",
      "  Preparing metadata (setup.py) ... \u001b[?25ldone\n",
      "\u001b[?25hCollecting pandas>1\n",
      "  Downloading pandas-2.1.1-cp311-cp311-macosx_10_9_x86_64.whl (11.6 MB)\n",
      "\u001b[2K     \u001b[90m━━━━━━━━━━━━━━━━━━━━━━━━━━━━━━━━━━━━━━━━\u001b[0m \u001b[32m11.6/11.6 MB\u001b[0m \u001b[31m23.6 MB/s\u001b[0m eta \u001b[36m0:00:00\u001b[0m00:01\u001b[0m00:01\u001b[0m\n",
      "\u001b[?25hCollecting appdirs>1\n",
      "  Using cached appdirs-1.4.4-py2.py3-none-any.whl (9.6 kB)\n",
      "Collecting fastparquet>0.5\n",
      "  Downloading fastparquet-2023.8.0-cp311-cp311-macosx_10_9_universal2.whl (910 kB)\n",
      "\u001b[2K     \u001b[90m━━━━━━━━━━━━━━━━━━━━━━━━━━━━━━━━━━━━━━\u001b[0m \u001b[32m910.1/910.1 kB\u001b[0m \u001b[31m19.9 MB/s\u001b[0m eta \u001b[36m0:00:00\u001b[0m00:01\u001b[0m\n",
      "\u001b[?25hCollecting python-snappy>0.5\n",
      "  Downloading python-snappy-0.6.1.tar.gz (24 kB)\n",
      "  Preparing metadata (setup.py) ... \u001b[?25ldone\n",
      "\u001b[?25hCollecting numpy>=1.20.3\n",
      "  Downloading numpy-1.26.0-cp311-cp311-macosx_10_9_x86_64.whl (20.6 MB)\n",
      "\u001b[2K     \u001b[90m━━━━━━━━━━━━━━━━━━━━━━━━━━━━━━━━━━━━━━━━\u001b[0m \u001b[32m20.6/20.6 MB\u001b[0m \u001b[31m17.1 MB/s\u001b[0m eta \u001b[36m0:00:00\u001b[0m00:01\u001b[0m00:01\u001b[0m\n",
      "\u001b[?25hCollecting cramjam>=2.3\n",
      "  Downloading cramjam-2.7.0-cp311-cp311-macosx_10_9_x86_64.macosx_11_0_arm64.macosx_10_9_universal2.whl (3.2 MB)\n",
      "\u001b[2K     \u001b[90m━━━━━━━━━━━━━━━━━━━━━━━━━━━━━━━━━━━━━━━━\u001b[0m \u001b[32m3.2/3.2 MB\u001b[0m \u001b[31m19.0 MB/s\u001b[0m eta \u001b[36m0:00:00\u001b[0m00:01\u001b[0m00:01\u001b[0m\n",
      "\u001b[?25hCollecting fsspec\n",
      "  Using cached fsspec-2023.9.2-py3-none-any.whl (173 kB)\n",
      "Requirement already satisfied: packaging in /usr/local/Cellar/jupyterlab/3.6.1/libexec/lib/python3.11/site-packages (from fastparquet>0.5->nfl_data_py) (23.0)\n",
      "Requirement already satisfied: python-dateutil>=2.8.2 in /usr/local/Cellar/jupyterlab/3.6.1/libexec/lib/python3.11/site-packages (from pandas>1->nfl_data_py) (2.8.2)\n",
      "Requirement already satisfied: pytz>=2020.1 in /usr/local/Cellar/jupyterlab/3.6.1/libexec/lib/python3.11/site-packages (from pandas>1->nfl_data_py) (2022.7.1)\n",
      "Collecting tzdata>=2022.1\n",
      "  Using cached tzdata-2023.3-py2.py3-none-any.whl (341 kB)\n",
      "Requirement already satisfied: six>=1.5 in /usr/local/opt/six/lib/python3.11/site-packages (from python-dateutil>=2.8.2->pandas>1->nfl_data_py) (1.16.0)\n",
      "Building wheels for collected packages: nfl_data_py, python-snappy\n",
      "  Building wheel for nfl_data_py (setup.py) ... \u001b[?25ldone\n",
      "\u001b[?25h  Created wheel for nfl_data_py: filename=nfl_data_py-0.3.1-py3-none-any.whl size=13186 sha256=c92c6ec881ba2a2f59891a89e208151b46c38901252b7065c82ce84af0190614\n",
      "  Stored in directory: /Users/elliottadler/Library/Caches/pip/wheels/27/09/ca/336d3f78770a0ad2870f0400e55040671efb3d725c49de1e8d\n",
      "  Building wheel for python-snappy (setup.py) ... \u001b[?25lerror\n",
      "  \u001b[1;31merror\u001b[0m: \u001b[1msubprocess-exited-with-error\u001b[0m\n",
      "  \n",
      "  \u001b[31m×\u001b[0m \u001b[32mpython setup.py bdist_wheel\u001b[0m did not run successfully.\n",
      "  \u001b[31m│\u001b[0m exit code: \u001b[1;36m1\u001b[0m\n",
      "  \u001b[31m╰─>\u001b[0m \u001b[31m[25 lines of output]\u001b[0m\n",
      "  \u001b[31m   \u001b[0m running bdist_wheel\n",
      "  \u001b[31m   \u001b[0m running build\n",
      "  \u001b[31m   \u001b[0m running build_py\n",
      "  \u001b[31m   \u001b[0m creating build\n",
      "  \u001b[31m   \u001b[0m creating build/lib.macosx-13-x86_64-cpython-311\n",
      "  \u001b[31m   \u001b[0m creating build/lib.macosx-13-x86_64-cpython-311/snappy\n",
      "  \u001b[31m   \u001b[0m copying src/snappy/snappy.py -> build/lib.macosx-13-x86_64-cpython-311/snappy\n",
      "  \u001b[31m   \u001b[0m copying src/snappy/snappy_cffi.py -> build/lib.macosx-13-x86_64-cpython-311/snappy\n",
      "  \u001b[31m   \u001b[0m copying src/snappy/__init__.py -> build/lib.macosx-13-x86_64-cpython-311/snappy\n",
      "  \u001b[31m   \u001b[0m copying src/snappy/hadoop_snappy.py -> build/lib.macosx-13-x86_64-cpython-311/snappy\n",
      "  \u001b[31m   \u001b[0m copying src/snappy/snappy_formats.py -> build/lib.macosx-13-x86_64-cpython-311/snappy\n",
      "  \u001b[31m   \u001b[0m copying src/snappy/__main__.py -> build/lib.macosx-13-x86_64-cpython-311/snappy\n",
      "  \u001b[31m   \u001b[0m copying src/snappy/snappy_cffi_builder.py -> build/lib.macosx-13-x86_64-cpython-311/snappy\n",
      "  \u001b[31m   \u001b[0m running build_ext\n",
      "  \u001b[31m   \u001b[0m building 'snappy._snappy' extension\n",
      "  \u001b[31m   \u001b[0m creating build/temp.macosx-13-x86_64-cpython-311\n",
      "  \u001b[31m   \u001b[0m creating build/temp.macosx-13-x86_64-cpython-311/src\n",
      "  \u001b[31m   \u001b[0m creating build/temp.macosx-13-x86_64-cpython-311/src/snappy\n",
      "  \u001b[31m   \u001b[0m clang -Wsign-compare -Wunreachable-code -fno-common -dynamic -DNDEBUG -g -fwrapv -O3 -Wall -isysroot /Library/Developer/CommandLineTools/SDKs/MacOSX13.sdk -I/usr/local/Cellar/jupyterlab/3.6.1/libexec/include -I/usr/local/opt/python@3.11/Frameworks/Python.framework/Versions/3.11/include/python3.11 -c src/snappy/crc32c.c -o build/temp.macosx-13-x86_64-cpython-311/src/snappy/crc32c.o\n",
      "  \u001b[31m   \u001b[0m clang -Wsign-compare -Wunreachable-code -fno-common -dynamic -DNDEBUG -g -fwrapv -O3 -Wall -isysroot /Library/Developer/CommandLineTools/SDKs/MacOSX13.sdk -I/usr/local/Cellar/jupyterlab/3.6.1/libexec/include -I/usr/local/opt/python@3.11/Frameworks/Python.framework/Versions/3.11/include/python3.11 -c src/snappy/snappymodule.cc -o build/temp.macosx-13-x86_64-cpython-311/src/snappy/snappymodule.o\n",
      "  \u001b[31m   \u001b[0m src/snappy/snappymodule.cc:33:10: fatal error: 'snappy-c.h' file not found\n",
      "  \u001b[31m   \u001b[0m #include <snappy-c.h>\n",
      "  \u001b[31m   \u001b[0m          ^~~~~~~~~~~~\n",
      "  \u001b[31m   \u001b[0m 1 error generated.\n",
      "  \u001b[31m   \u001b[0m error: command '/usr/bin/clang' failed with exit code 1\n",
      "  \u001b[31m   \u001b[0m \u001b[31m[end of output]\u001b[0m\n",
      "  \n",
      "  \u001b[1;35mnote\u001b[0m: This error originates from a subprocess, and is likely not a problem with pip.\n",
      "\u001b[31m  ERROR: Failed building wheel for python-snappy\u001b[0m\u001b[31m\n",
      "\u001b[0m\u001b[?25h  Running setup.py clean for python-snappy\n",
      "Successfully built nfl_data_py\n",
      "Failed to build python-snappy\n",
      "Installing collected packages: python-snappy, appdirs, tzdata, numpy, fsspec, cramjam, pandas, fastparquet, nfl_data_py\n",
      "  Running setup.py install for python-snappy ... \u001b[?25lerror\n",
      "  \u001b[1;31merror\u001b[0m: \u001b[1msubprocess-exited-with-error\u001b[0m\n",
      "  \n",
      "  \u001b[31m×\u001b[0m \u001b[32mRunning setup.py install for python-snappy\u001b[0m did not run successfully.\n",
      "  \u001b[31m│\u001b[0m exit code: \u001b[1;36m1\u001b[0m\n",
      "  \u001b[31m╰─>\u001b[0m \u001b[31m[27 lines of output]\u001b[0m\n",
      "  \u001b[31m   \u001b[0m running install\n",
      "  \u001b[31m   \u001b[0m /usr/local/Cellar/jupyterlab/3.6.1/libexec/lib/python3.11/site-packages/setuptools/command/install.py:34: SetuptoolsDeprecationWarning: setup.py install is deprecated. Use build and pip and other standards-based tools.\n",
      "  \u001b[31m   \u001b[0m   warnings.warn(\n",
      "  \u001b[31m   \u001b[0m running build\n",
      "  \u001b[31m   \u001b[0m running build_py\n",
      "  \u001b[31m   \u001b[0m creating build\n",
      "  \u001b[31m   \u001b[0m creating build/lib.macosx-13-x86_64-cpython-311\n",
      "  \u001b[31m   \u001b[0m creating build/lib.macosx-13-x86_64-cpython-311/snappy\n",
      "  \u001b[31m   \u001b[0m copying src/snappy/snappy.py -> build/lib.macosx-13-x86_64-cpython-311/snappy\n",
      "  \u001b[31m   \u001b[0m copying src/snappy/snappy_cffi.py -> build/lib.macosx-13-x86_64-cpython-311/snappy\n",
      "  \u001b[31m   \u001b[0m copying src/snappy/__init__.py -> build/lib.macosx-13-x86_64-cpython-311/snappy\n",
      "  \u001b[31m   \u001b[0m copying src/snappy/hadoop_snappy.py -> build/lib.macosx-13-x86_64-cpython-311/snappy\n",
      "  \u001b[31m   \u001b[0m copying src/snappy/snappy_formats.py -> build/lib.macosx-13-x86_64-cpython-311/snappy\n",
      "  \u001b[31m   \u001b[0m copying src/snappy/__main__.py -> build/lib.macosx-13-x86_64-cpython-311/snappy\n",
      "  \u001b[31m   \u001b[0m copying src/snappy/snappy_cffi_builder.py -> build/lib.macosx-13-x86_64-cpython-311/snappy\n",
      "  \u001b[31m   \u001b[0m running build_ext\n",
      "  \u001b[31m   \u001b[0m building 'snappy._snappy' extension\n",
      "  \u001b[31m   \u001b[0m creating build/temp.macosx-13-x86_64-cpython-311\n",
      "  \u001b[31m   \u001b[0m creating build/temp.macosx-13-x86_64-cpython-311/src\n",
      "  \u001b[31m   \u001b[0m creating build/temp.macosx-13-x86_64-cpython-311/src/snappy\n",
      "  \u001b[31m   \u001b[0m clang -Wsign-compare -Wunreachable-code -fno-common -dynamic -DNDEBUG -g -fwrapv -O3 -Wall -isysroot /Library/Developer/CommandLineTools/SDKs/MacOSX13.sdk -I/usr/local/Cellar/jupyterlab/3.6.1/libexec/include -I/usr/local/opt/python@3.11/Frameworks/Python.framework/Versions/3.11/include/python3.11 -c src/snappy/crc32c.c -o build/temp.macosx-13-x86_64-cpython-311/src/snappy/crc32c.o\n",
      "  \u001b[31m   \u001b[0m clang -Wsign-compare -Wunreachable-code -fno-common -dynamic -DNDEBUG -g -fwrapv -O3 -Wall -isysroot /Library/Developer/CommandLineTools/SDKs/MacOSX13.sdk -I/usr/local/Cellar/jupyterlab/3.6.1/libexec/include -I/usr/local/opt/python@3.11/Frameworks/Python.framework/Versions/3.11/include/python3.11 -c src/snappy/snappymodule.cc -o build/temp.macosx-13-x86_64-cpython-311/src/snappy/snappymodule.o\n",
      "  \u001b[31m   \u001b[0m src/snappy/snappymodule.cc:33:10: fatal error: 'snappy-c.h' file not found\n",
      "  \u001b[31m   \u001b[0m #include <snappy-c.h>\n",
      "  \u001b[31m   \u001b[0m          ^~~~~~~~~~~~\n",
      "  \u001b[31m   \u001b[0m 1 error generated.\n",
      "  \u001b[31m   \u001b[0m error: command '/usr/bin/clang' failed with exit code 1\n",
      "  \u001b[31m   \u001b[0m \u001b[31m[end of output]\u001b[0m\n",
      "  \n",
      "  \u001b[1;35mnote\u001b[0m: This error originates from a subprocess, and is likely not a problem with pip.\n",
      "\u001b[1;31merror\u001b[0m: \u001b[1mlegacy-install-failure\u001b[0m\n",
      "\n",
      "\u001b[31m×\u001b[0m Encountered error while trying to install package.\n",
      "\u001b[31m╰─>\u001b[0m python-snappy\n",
      "\n",
      "\u001b[1;35mnote\u001b[0m: This is an issue with the package mentioned above, not pip.\n",
      "\u001b[1;36mhint\u001b[0m: See above for output from the failure.\n"
     ]
    },
    {
     "name": "stdout",
     "output_type": "stream",
     "text": [
      "\n",
      "\u001b[1m[\u001b[0m\u001b[34;49mnotice\u001b[0m\u001b[1;39;49m]\u001b[0m\u001b[39;49m A new release of pip available: \u001b[0m\u001b[31;49m22.3.1\u001b[0m\u001b[39;49m -> \u001b[0m\u001b[32;49m23.2.1\u001b[0m\n",
      "\u001b[1m[\u001b[0m\u001b[34;49mnotice\u001b[0m\u001b[1;39;49m]\u001b[0m\u001b[39;49m To update, run: \u001b[0m\u001b[32;49mpython3.11 -m pip install --upgrade pip\u001b[0m\n",
      "\u001b[?25hNote: you may need to restart the kernel to use updated packages.\n"
     ]
    }
   ],
   "source": [
    "pip install nfl_data_py"
   ]
  },
  {
   "cell_type": "code",
   "execution_count": null,
   "id": "e053483c",
   "metadata": {},
   "outputs": [],
   "source": []
  }
 ],
 "metadata": {
  "kernelspec": {
   "display_name": "Python 3 (ipykernel)",
   "language": "python",
   "name": "python3"
  },
  "language_info": {
   "codemirror_mode": {
    "name": "ipython",
    "version": 3
   },
   "file_extension": ".py",
   "mimetype": "text/x-python",
   "name": "python",
   "nbconvert_exporter": "python",
   "pygments_lexer": "ipython3",
   "version": "3.11.2"
  }
 },
 "nbformat": 4,
 "nbformat_minor": 5
}
